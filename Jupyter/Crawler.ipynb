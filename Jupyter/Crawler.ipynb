{
 "cells": [
  {
   "cell_type": "code",
   "execution_count": 1,
   "id": "b2192c49",
   "metadata": {},
   "outputs": [],
   "source": [
    "import requests\n",
    "import sys\n",
    "import json\n",
    "import pandas as pd\n",
    "import time"
   ]
  },
  {
   "cell_type": "code",
   "execution_count": 4,
   "id": "e5edd963",
   "metadata": {},
   "outputs": [],
   "source": [
    "class Crawler:\n",
    "    def __init__(self, CITY_CODE = 13000, AREA_CODE = 13096):\n",
    "        self.CITY_CODE = CITY_CODE\n",
    "        self.AREA_CODE = AREA_CODE\n",
    "        self.DEFAULT = DEFAULT = 'https://gateway.chotot.com/v1/public/ad-listing?'\n",
    "        self.headers = {'User-Agent': 'Mozilla/5.0 (Macintosh; Intel Mac OS X 10_10_1) AppleWebKit/537.36 (KHTML, like Gecko) Chrome/39.0.2171.95 Safari/537.36'}\n",
    "        self.ERROR_LIMIT = 6\n",
    "        \n",
    "    def run(self):\n",
    "        error = 0\n",
    "        data = []\n",
    "        previous = time.time()\n",
    "    \n",
    "        while (True):\n",
    "            page = 0\n",
    "            o = -20\n",
    "            sys.stdout.write('Scanning area: %d\\n' % (self.AREA_CODE))\n",
    "            sys.stdout.flush()\n",
    "            \n",
    "            while (True):\n",
    "                page = page + 1\n",
    "                o = o + 20\n",
    "                url = self.DEFAULT + 'region_v2' + str(self.CITY_CODE) + '&area_v2=' + str(self.AREA_CODE) + '&cg=1000&o=' + str(o) + '&page=' + str(page) + '&st=s,k&limit=20&key_param_included=true'\n",
    "                r = requests.get(headers = self.headers, url = url)\n",
    "                r.json()\n",
    "                if 0 == len(r.json()['ads']):\n",
    "                    #sys.stdout.write('\\n%s' % 'Close')\n",
    "                    break\n",
    "                data.extend(r.json()['ads'])\n",
    "                delta = time.time() - previous\n",
    "                quantity = int(20 / delta)\n",
    "                previous = time.time()\n",
    "                sys.stdout.write('Number of items: %d (Total: %d | Speed: %d items / second)\\r' % (page * 20,  len(data), quantity))\n",
    "                sys.stdout.flush()\n",
    "              \n",
    "\n",
    "            \n",
    "            if (page == 1):\n",
    "                error += 1\n",
    "            else:\n",
    "                sys.stdout.write('\\n')\n",
    "                \n",
    "            if (error > self.ERROR_LIMIT):\n",
    "                break\n",
    "            self.AREA_CODE += 1\n",
    "            \n",
    "        sys.stdout.write('\\nFinish %d items' % (len(data)))\n",
    "        sys.stdout.flush()\n",
    "        return data"
   ]
  },
  {
   "cell_type": "code",
   "execution_count": 5,
   "id": "025d67de",
   "metadata": {},
   "outputs": [
    {
     "name": "stdout",
     "output_type": "stream",
     "text": [
      "Scanning area: 13096\n",
      "Number of items: 1760 (Total: 1743 | Speed: 176 items / second)\n",
      "Scanning area: 13097\n",
      "Number of items: 20 (Total: 1745 | Speed: 76 items / second)\n",
      "Scanning area: 13098\n",
      "Number of items: 2300 (Total: 4044 | Speed: 119 items / second)\n",
      "Scanning area: 13099\n",
      "Number of items: 2040 (Total: 6072 | Speed: 154 items / second)\n",
      "Scanning area: 13100\n",
      "Number of items: 1140 (Total: 7199 | Speed: 172 items / second)\n",
      "Scanning area: 13101\n",
      "Number of items: 2800 (Total: 9991 | Speed: 118 items / second)\n",
      "Scanning area: 13102\n",
      "Number of items: 9140 (Total: 19122 | Speed: 76 items / second))\n",
      "Scanning area: 13103\n",
      "Number of items: 5680 (Total: 24798 | Speed: 107 items / second)\n",
      "Scanning area: 13104\n",
      "Scanning area: 13105\n",
      "Number of items: 3580 (Total: 28372 | Speed: 106 items / second)\n",
      "Scanning area: 13106\n",
      "Number of items: 2340 (Total: 30698 | Speed: 125 items / second)\n",
      "Scanning area: 13107\n",
      "Number of items: 9080 (Total: 39764 | Speed: 135 items / second)\n",
      "Scanning area: 13108\n",
      "Number of items: 8840 (Total: 48588 | Speed: 151 items / second)\n",
      "Scanning area: 13109\n",
      "Number of items: 9600 (Total: 58180 | Speed: 100 items / second)\n",
      "Scanning area: 13110\n",
      "Number of items: 12280 (Total: 70444 | Speed: 143 items / second)\n",
      "Scanning area: 13111\n",
      "Number of items: 4040 (Total: 74473 | Speed: 125 items / second)\n",
      "Scanning area: 13112\n",
      "Number of items: 7300 (Total: 81758 | Speed: 125 items / second)\n",
      "Scanning area: 13113\n",
      "Number of items: 10120 (Total: 91869 | Speed: 88 items / second))\n",
      "Scanning area: 13114\n",
      "Number of items: 20 (Total: 91877 | Speed: 53 items / second)\n",
      "Scanning area: 13115\n",
      "Number of items: 5080 (Total: 96957 | Speed: 118 items / second)\n",
      "Scanning area: 13116\n",
      "Number of items: 3540 (Total: 100496 | Speed: 123 items / second)\n",
      "Scanning area: 13117\n",
      "Number of items: 3520 (Total: 104002 | Speed: 149 items / second)\n",
      "Scanning area: 13118\n",
      "Number of items: 3100 (Total: 107096 | Speed: 136 items / second)\n",
      "Scanning area: 13119\n",
      "Number of items: 17140 (Total: 124225 | Speed: 136 items / second)\n",
      "Scanning area: 13120\n",
      "Number of items: 140 (Total: 124350 | Speed: 124 items / second)\n",
      "Scanning area: 13121\n",
      "Scanning area: 13122\n",
      "Scanning area: 13123\n",
      "Scanning area: 13124\n",
      "Scanning area: 13125\n",
      "Scanning area: 13126\n",
      "\n",
      "Finish 124350 items--- 1206.8849909305573 seconds ---\n"
     ]
    }
   ],
   "source": [
    "start_time = time.time()\n",
    "\n",
    "bot = Crawler()\n",
    "data2 = bot.run()\n",
    "\n",
    "print(\"--- %s seconds ---\" % (time.time() - start_time))\n"
   ]
  },
  {
   "cell_type": "code",
   "execution_count": 6,
   "id": "99dced0c",
   "metadata": {},
   "outputs": [
    {
     "data": {
      "text/plain": [
       "124350"
      ]
     },
     "execution_count": 6,
     "metadata": {},
     "output_type": "execute_result"
    }
   ],
   "source": [
    "len(data2)"
   ]
  },
  {
   "cell_type": "code",
   "execution_count": null,
   "id": "8941c33a",
   "metadata": {},
   "outputs": [],
   "source": [
    "with open('raw.json', 'w') as f:\n",
    "    json.dump(data2, f)"
   ]
  },
  {
   "cell_type": "code",
   "execution_count": 2,
   "id": "e7f7e03f",
   "metadata": {},
   "outputs": [],
   "source": [
    "f = open('raw.json')\n",
    "raw = json.load(f)"
   ]
  },
  {
   "cell_type": "code",
   "execution_count": 3,
   "id": "066e95ae",
   "metadata": {},
   "outputs": [],
   "source": [
    "houses = raw\n",
    "for item in houses:\n",
    "    try:\n",
    "        del item['params']\n",
    "    except:\n",
    "        pass"
   ]
  },
  {
   "cell_type": "code",
   "execution_count": 4,
   "id": "feaa14b2",
   "metadata": {},
   "outputs": [
    {
     "data": {
      "text/plain": [
       "{'ad_id': 141324603,\n",
       " 'list_id': 102632410,\n",
       " 'list_time': 1672998065933,\n",
       " 'date': '36 phút trước',\n",
       " 'account_id': 3824717,\n",
       " 'account_oid': '7dc3e0a19e3c535930224fbf719d36ed',\n",
       " 'account_name': 'Lê Minh',\n",
       " 'subject': 'Ban nhà giá rẻ chính chủ! Ngay trung tâm Sài Gòn!',\n",
       " 'body': 'Hot! Nha chính chủ! Hẻm 2,5m số 245/79/37 Nguyễn Trãi phường nctrinh quan 1, gần phố đi bộ Bùi viện,chợ ng thái bình , rạp chiếu phim CGV , dt 1,6*6m, 1 trệt , 1 lầu , balcon , 1pn,1wc,bếp, Gto hợp lệ, bao ra công chứng vi bằng, giá rẻ: 560tr',\n",
       " 'category': 1020,\n",
       " 'category_name': 'Nhà ở',\n",
       " 'area': 96,\n",
       " 'area_name': 'Quận 1',\n",
       " 'region': 13,\n",
       " 'region_name': 'Tp Hồ Chí Minh',\n",
       " 'company_ad': True,\n",
       " 'type': 's',\n",
       " 'price': 560000000,\n",
       " 'price_string': '560 triệu',\n",
       " 'image': 'https://cdn.chotot.com/fE15yYJtPs0z8Lo2B6BKBRGf8wBoI-2tExZqfgR7PmU/preset:listing/plain/d7c05d90ac371524f8fe3c8713c6d621-2806679011913952194.jpg',\n",
       " 'webp_image': 'https://cdn.chotot.com/yq2IWzcIQOPW-Xkt8tx1kv2vWwfTTspy7JL7AFmQ7U4/preset:listing/plain/d7c05d90ac371524f8fe3c8713c6d621-2806679011913952194.webp',\n",
       " 'videos': [],\n",
       " 'number_of_images': 11,\n",
       " 'avatar': 'https://cdn.chotot.com/uac2/3824717',\n",
       " 'rooms': 1,\n",
       " 'property_legal_document': 3,\n",
       " 'size': 9,\n",
       " 'region_v2': 13000,\n",
       " 'area_v2': 13096,\n",
       " 'ward': 9225,\n",
       " 'ward_name': 'Phường Nguyễn Cư Trinh',\n",
       " 'direction': 4,\n",
       " 'toilets': 1,\n",
       " 'floors': 2,\n",
       " 'house_type': 3,\n",
       " 'streetnumber_display': 1,\n",
       " 'furnishing_sell': 3,\n",
       " 'width': 1.6,\n",
       " 'length': 6,\n",
       " 'living_size': 18,\n",
       " 'contain_videos': 2,\n",
       " 'location': '10.76375,106.68969',\n",
       " 'longitude': 106.68969,\n",
       " 'latitude': 10.76375,\n",
       " 'phone_hidden': True,\n",
       " 'owner': False,\n",
       " 'street_number': '245/79/37',\n",
       " 'protection_entitlement': False,\n",
       " 'escrow_can_deposit': 2,\n",
       " 'zero_deposit': False,\n",
       " 'street_name': 'Đường Nguyễn Trãi',\n",
       " 'pty_jupiter': '0'}"
      ]
     },
     "execution_count": 4,
     "metadata": {},
     "output_type": "execute_result"
    }
   ],
   "source": [
    "houses[0]"
   ]
  },
  {
   "cell_type": "code",
   "execution_count": 5,
   "id": "3ef57f9c",
   "metadata": {},
   "outputs": [],
   "source": [
    "with open('houses.json', 'w') as f:\n",
    "    json.dump(houses, f)"
   ]
  }
 ],
 "metadata": {
  "kernelspec": {
   "display_name": "Python 3 (ipykernel)",
   "language": "python",
   "name": "python3"
  },
  "language_info": {
   "codemirror_mode": {
    "name": "ipython",
    "version": 3
   },
   "file_extension": ".py",
   "mimetype": "text/x-python",
   "name": "python",
   "nbconvert_exporter": "python",
   "pygments_lexer": "ipython3",
   "version": "3.10.6"
  }
 },
 "nbformat": 4,
 "nbformat_minor": 5
}
